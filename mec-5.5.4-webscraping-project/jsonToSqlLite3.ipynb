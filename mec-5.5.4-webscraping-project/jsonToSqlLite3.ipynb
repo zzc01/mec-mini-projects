{
 "cells": [
  {
   "cell_type": "markdown",
   "metadata": {},
   "source": [
    "Import libraries"
   ]
  },
  {
   "cell_type": "code",
   "execution_count": 20,
   "metadata": {},
   "outputs": [],
   "source": [
    "import pandas as pd\n",
    "import json \n",
    "from pandas.io.json import json_normalize\n",
    "import sqlite3"
   ]
  },
  {
   "cell_type": "markdown",
   "metadata": {},
   "source": [
    "* load the json file \n",
    "* create a db and table to store the quotes \n",
    "* about the schema \n",
    "    * author, quote, tag \n",
    "* store the quotes \n",
    "* test the db "
   ]
  },
  {
   "cell_type": "markdown",
   "metadata": {},
   "source": [
    "# SQLit3 DB"
   ]
  },
  {
   "cell_type": "markdown",
   "metadata": {},
   "source": [
    "### Connect and cursor"
   ]
  },
  {
   "cell_type": "code",
   "execution_count": 143,
   "metadata": {},
   "outputs": [],
   "source": [
    "con = sqlite3.connect(\"quotes.db\")\n",
    "cur = con.cursor() "
   ]
  },
  {
   "cell_type": "markdown",
   "metadata": {},
   "source": [
    "### Create Table"
   ]
  },
  {
   "cell_type": "code",
   "execution_count": 163,
   "metadata": {},
   "outputs": [
    {
     "data": {
      "text/plain": [
       "<sqlite3.Cursor at 0x7f26b089d9d0>"
      ]
     },
     "execution_count": 163,
     "metadata": {},
     "output_type": "execute_result"
    }
   ],
   "source": [
    "cur.execute(\"\"\"\n",
    "CREATE TABLE IF NOT EXISTS quotes\n",
    "(\n",
    "text VARCHAR(255), \n",
    "author VARCHAR(255), \n",
    "tags  VARCHAR(255) \n",
    ")\n",
    "\"\"\")\n",
    "# cur.execute(\"\"\"\n",
    "# CREATE TABLE IF NOT EXISTS quotes\n",
    "# (\n",
    "# text, \n",
    "# author, \n",
    "# tags\n",
    "# )\n",
    "# \"\"\")"
   ]
  },
  {
   "cell_type": "markdown",
   "metadata": {},
   "source": [
    "### Information in the built-in sqlite_master table "
   ]
  },
  {
   "cell_type": "code",
   "execution_count": 145,
   "metadata": {},
   "outputs": [
    {
     "name": "stdout",
     "output_type": "stream",
     "text": [
      "(('type', None, None, None, None, None, None), ('name', None, None, None, None, None, None), ('tbl_name', None, None, None, None, None, None), ('rootpage', None, None, None, None, None, None), ('sql', None, None, None, None, None, None))\n",
      "[('table', 'quotes', 'quotes', 2, 'CREATE TABLE quotes\\n(\\ntext, \\nauthor, \\ntags\\n)')]\n"
     ]
    }
   ],
   "source": [
    "sql_query = \"\"\"\n",
    "SELECT *\n",
    "FROM sqlite_master  \n",
    "\"\"\"\n",
    "res = cur.execute(sql_query)\n",
    "print(res.description)\n",
    "print(res.fetchall())"
   ]
  },
  {
   "cell_type": "markdown",
   "metadata": {},
   "source": [
    "### List all tables"
   ]
  },
  {
   "cell_type": "code",
   "execution_count": 146,
   "metadata": {},
   "outputs": [
    {
     "name": "stdout",
     "output_type": "stream",
     "text": [
      "[('quotes',)]\n"
     ]
    }
   ],
   "source": [
    "sql_query = \"\"\"\n",
    "SELECT name \n",
    "FROM sqlite_master  \n",
    "WHERE type='table';\n",
    "\"\"\"\n",
    "res = cur.execute(sql_query)\n",
    "print(res.fetchall())"
   ]
  },
  {
   "cell_type": "markdown",
   "metadata": {},
   "source": [
    "### Information of quote table "
   ]
  },
  {
   "cell_type": "code",
   "execution_count": 161,
   "metadata": {},
   "outputs": [
    {
     "name": "stdout",
     "output_type": "stream",
     "text": [
      "(('text', None, None, None, None, None, None), ('author', None, None, None, None, None, None), ('tags', None, None, None, None, None, None))\n",
      "('“The world as we have created it is a process of our thinking. It cannot be changed without changing our thinking.”', 'Albert Einstein', 'change,deep-thoughts,thinking,world')\n"
     ]
    }
   ],
   "source": [
    "res = cur.execute(\"\"\"SELECT * FROM quotes\"\"\")\n",
    "print(res.description)\n",
    "print(res.fetchone())"
   ]
  },
  {
   "cell_type": "markdown",
   "metadata": {},
   "source": [
    "### Delete thte table"
   ]
  },
  {
   "cell_type": "code",
   "execution_count": 148,
   "metadata": {},
   "outputs": [],
   "source": [
    "# cur.execute(\"DROP TABLE quotes\")\n",
    "con.commit()"
   ]
  },
  {
   "cell_type": "markdown",
   "metadata": {},
   "source": [
    "### Content of quote table"
   ]
  },
  {
   "cell_type": "code",
   "execution_count": 164,
   "metadata": {},
   "outputs": [
    {
     "name": "stdout",
     "output_type": "stream",
     "text": [
      "[('Albert Einstein', 'change,deep-thoughts,thinking,world'), ('J.K. Rowling', 'abilities,choices'), ('Albert Einstein', 'inspirational,life,live,miracle,miracles'), ('Jane Austen', 'aliteracy,books,classic,humor'), ('Marilyn Monroe', 'be-yourself,inspirational'), ('Albert Einstein', 'adulthood,success,value'), ('André Gide', 'life,love'), ('Thomas A. Edison', 'edison,failure,inspirational,paraphrased'), ('Eleanor Roosevelt', 'misattributed-eleanor-roosevelt'), ('Steve Martin', 'humor,obvious,simile'), ('Marilyn Monroe', 'friends,heartbreak,inspirational,life,love,sisters'), ('J.K. Rowling', 'courage,friends'), ('Albert Einstein', 'simplicity,understand'), ('Bob Marley', 'love'), ('Dr. Seuss', 'fantasy'), ('Douglas Adams', 'life,navigation'), ('Elie Wiesel', 'activism,apathy,hate,indifference,inspirational,love,opposite,philosophy'), ('Friedrich Nietzsche', 'friendship,lack-of-friendship,lack-of-love,love,marriage,unhappy-marriage'), ('Mark Twain', 'books,contentment,friends,friendship,life'), ('Allen Saunders', 'fate,life,misattributed-john-lennon,planning,plans'), ('Albert Einstein', 'change,deep-thoughts,thinking,world'), ('J.K. Rowling', 'abilities,choices'), ('Albert Einstein', 'inspirational,life,live,miracle,miracles'), ('Jane Austen', 'aliteracy,books,classic,humor'), ('Marilyn Monroe', 'be-yourself,inspirational'), ('Albert Einstein', 'adulthood,success,value'), ('André Gide', 'life,love'), ('Thomas A. Edison', 'edison,failure,inspirational,paraphrased'), ('Eleanor Roosevelt', 'misattributed-eleanor-roosevelt'), ('Steve Martin', 'humor,obvious,simile'), ('Marilyn Monroe', 'friends,heartbreak,inspirational,life,love,sisters'), ('J.K. Rowling', 'courage,friends'), ('Albert Einstein', 'simplicity,understand'), ('Bob Marley', 'love'), ('Dr. Seuss', 'fantasy'), ('Douglas Adams', 'life,navigation'), ('Elie Wiesel', 'activism,apathy,hate,indifference,inspirational,love,opposite,philosophy'), ('Friedrich Nietzsche', 'friendship,lack-of-friendship,lack-of-love,love,marriage,unhappy-marriage'), ('Mark Twain', 'books,contentment,friends,friendship,life'), ('Allen Saunders', 'fate,life,misattributed-john-lennon,planning,plans')]\n"
     ]
    }
   ],
   "source": [
    "sql_query = \"\"\"\n",
    "SELECT author, tags\n",
    "FROM quotes\n",
    "\"\"\"\n",
    "res = cur.execute(sql_query)\n",
    "print(res.fetchall())"
   ]
  },
  {
   "cell_type": "code",
   "execution_count": 104,
   "metadata": {},
   "outputs": [],
   "source": [
    "con.close()"
   ]
  },
  {
   "cell_type": "markdown",
   "metadata": {},
   "source": [
    "# JSON File"
   ]
  },
  {
   "cell_type": "markdown",
   "metadata": {},
   "source": [
    "### Load JSON file"
   ]
  },
  {
   "cell_type": "code",
   "execution_count": 85,
   "metadata": {},
   "outputs": [],
   "source": [
    "json_obj = json.load(open('quotes.json'))"
   ]
  },
  {
   "cell_type": "markdown",
   "metadata": {},
   "source": [
    "### Print out the data"
   ]
  },
  {
   "cell_type": "code",
   "execution_count": 165,
   "metadata": {},
   "outputs": [
    {
     "name": "stdout",
     "output_type": "stream",
     "text": [
      "{'text': '“It is our choices, Harry, that show what we truly are, far more than our abilities.”', 'author': 'J.K. Rowling', 'tags': ['abilities', 'choices']}\n",
      "“It is our choices, Harry, that show what we truly are, far more than our abilities.”\n",
      "J.K. Rowling\n",
      "['abilities', 'choices']\n"
     ]
    }
   ],
   "source": [
    "print(json_obj[1])\n",
    "print(json_obj[1]['text'])\n",
    "print(json_obj[1]['author'])\n",
    "print(json_obj[1]['tags'])"
   ]
  },
  {
   "cell_type": "markdown",
   "metadata": {},
   "source": [
    "### Store the data into SQLite3 Quote table"
   ]
  },
  {
   "cell_type": "code",
   "execution_count": 156,
   "metadata": {},
   "outputs": [
    {
     "name": "stdout",
     "output_type": "stream",
     "text": [
      "“The world as we have created it is a process of our thinking. It cannot be changed without changing our thinking.”\n",
      "Albert Einstein\n",
      "change,deep-thoughts,thinking,world\n",
      "“It is our choices, Harry, that show what we truly are, far more than our abilities.”\n",
      "J.K. Rowling\n",
      "abilities,choices\n",
      "“There are only two ways to live your life. One is as though nothing is a miracle. The other is as though everything is a miracle.”\n",
      "Albert Einstein\n",
      "inspirational,life,live,miracle,miracles\n",
      "“The person, be it gentleman or lady, who has not pleasure in a good novel, must be intolerably stupid.”\n",
      "Jane Austen\n",
      "aliteracy,books,classic,humor\n",
      "“Imperfection is beauty, madness is genius and it's better to be absolutely ridiculous than absolutely boring.”\n",
      "Marilyn Monroe\n",
      "be-yourself,inspirational\n",
      "“Try not to become a man of success. Rather become a man of value.”\n",
      "Albert Einstein\n",
      "adulthood,success,value\n",
      "“It is better to be hated for what you are than to be loved for what you are not.”\n",
      "André Gide\n",
      "life,love\n",
      "“I have not failed. I've just found 10,000 ways that won't work.”\n",
      "Thomas A. Edison\n",
      "edison,failure,inspirational,paraphrased\n",
      "“A woman is like a tea bag; you never know how strong it is until it's in hot water.”\n",
      "Eleanor Roosevelt\n",
      "misattributed-eleanor-roosevelt\n",
      "“A day without sunshine is like, you know, night.”\n",
      "Steve Martin\n",
      "humor,obvious,simile\n",
      "“This life is what you make it. No matter what, you're going to mess up sometimes, it's a universal truth. But the good part is you get to decide how you're going to mess it up. Girls will be your friends - they'll act like it anyway. But just remember, some come, some go. The ones that stay with you through everything - they're your true best friends. Don't let go of them. Also remember, sisters make the best friends in the world. As for lovers, well, they'll come and go too. And baby, I hate to say it, most of them - actually pretty much all of them are going to break your heart, but you can't give up because if you give up, you'll never find your soulmate. You'll never find that half who makes you whole and that goes for everything. Just because you fail once, doesn't mean you're gonna fail at everything. Keep trying, hold on, and always, always, always believe in yourself, because if you don't, then who will, sweetie? So keep your head high, keep your chin up, and most importantly, keep smiling, because life's a beautiful thing and there's so much to smile about.”\n",
      "Marilyn Monroe\n",
      "friends,heartbreak,inspirational,life,love,sisters\n",
      "“It takes a great deal of bravery to stand up to our enemies, but just as much to stand up to our friends.”\n",
      "J.K. Rowling\n",
      "courage,friends\n",
      "“If you can't explain it to a six year old, you don't understand it yourself.”\n",
      "Albert Einstein\n",
      "simplicity,understand\n",
      "“You may not be her first, her last, or her only. She loved before she may love again. But if she loves you now, what else matters? She's not perfect—you aren't either, and the two of you may never be perfect together but if she can make you laugh, cause you to think twice, and admit to being human and making mistakes, hold onto her and give her the most you can. She may not be thinking about you every second of the day, but she will give you a part of her that she knows you can break—her heart. So don't hurt her, don't change her, don't analyze and don't expect more than she can give. Smile when she makes you happy, let her know when she makes you mad, and miss her when she's not there.”\n",
      "Bob Marley\n",
      "love\n",
      "“I like nonsense, it wakes up the brain cells. Fantasy is a necessary ingredient in living.”\n",
      "Dr. Seuss\n",
      "fantasy\n",
      "“I may not have gone where I intended to go, but I think I have ended up where I needed to be.”\n",
      "Douglas Adams\n",
      "life,navigation\n",
      "“The opposite of love is not hate, it's indifference. The opposite of art is not ugliness, it's indifference. The opposite of faith is not heresy, it's indifference. And the opposite of life is not death, it's indifference.”\n",
      "Elie Wiesel\n",
      "activism,apathy,hate,indifference,inspirational,love,opposite,philosophy\n",
      "“It is not a lack of love, but a lack of friendship that makes unhappy marriages.”\n",
      "Friedrich Nietzsche\n",
      "friendship,lack-of-friendship,lack-of-love,love,marriage,unhappy-marriage\n",
      "“Good friends, good books, and a sleepy conscience: this is the ideal life.”\n",
      "Mark Twain\n",
      "books,contentment,friends,friendship,life\n",
      "“Life is what happens to us while we are making other plans.”\n",
      "Allen Saunders\n",
      "fate,life,misattributed-john-lennon,planning,plans\n"
     ]
    }
   ],
   "source": [
    "for quote in json_obj:\n",
    "    print(quote['text'])\n",
    "    print(quote['author'])\n",
    "    print(\",\".join(quote['tags']))\n",
    "    cur.execute(\"INSERT INTO quotes VALUES (?, ?, ?)\", \n",
    "                (quote['text'], quote['author'], \",\".join(quote['tags'])))"
   ]
  }
 ],
 "metadata": {
  "kernelspec": {
   "display_name": "Python 3",
   "language": "python",
   "name": "python3"
  },
  "language_info": {
   "codemirror_mode": {
    "name": "ipython",
    "version": 3
   },
   "file_extension": ".py",
   "mimetype": "text/x-python",
   "name": "python",
   "nbconvert_exporter": "python",
   "pygments_lexer": "ipython3",
   "version": "3.7.15"
  }
 },
 "nbformat": 4,
 "nbformat_minor": 4
}

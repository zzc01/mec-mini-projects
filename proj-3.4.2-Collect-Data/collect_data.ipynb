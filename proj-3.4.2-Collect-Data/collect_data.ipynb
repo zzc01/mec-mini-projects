{
 "cells": [
  {
   "cell_type": "markdown",
   "metadata": {},
   "source": [
    "# 3.4.2 Collect Your Data Project \n",
    "1. IMDB dataset from FastAI \n",
    "2. Glue CoLA dataset from Hugging Face \n",
    "3. Titanic dataset from Kaggle \n",
    "4. Trying to get Common Crawl data (failed)\n"
   ]
  },
  {
   "cell_type": "markdown",
   "metadata": {},
   "source": [
    "## IMDB Dataset\n",
    "- This IMDB dataset was collected by stanford researchers. https://ai.stanford.edu/~amaas/data/sentiment/<br/>\n",
    "If download the data from Stanford website you will see several folders and files. <br/>\n",
    "Whereis if you download the data from FastAI or kaggle the data are put together in a csv file. <br/>\n",
    "- Here is the code that is used to download the IMDB dataset from FastAI . <br/>\n",
    "Reference: https://github.com/fastai/fastai/blob/master/dev_nbs/course/lesson3-imdb.ipynb <br/>\n",
    "- The dataset can also be found on Kaggle <br/>\n",
    "See https://www.kaggle.com/datasets/lakshmi25npathi/imdb-dataset-of-50k-movie-reviews/code?datasetId=134715&sortBy=voteCount <br/>\n",
    "- Many projects use this dataset to do sentiment analysis \n"
   ]
  },
  {
   "cell_type": "code",
   "execution_count": 1,
   "metadata": {},
   "outputs": [],
   "source": [
    "%matplotlib inline"
   ]
  },
  {
   "cell_type": "code",
   "execution_count": 2,
   "metadata": {},
   "outputs": [],
   "source": [
    "from fastai.text.all import *\n",
    "from nbdev.showdoc import *"
   ]
  },
  {
   "cell_type": "code",
   "execution_count": 19,
   "metadata": {},
   "outputs": [
    {
     "name": "stdout",
     "output_type": "stream",
     "text": [
      "https://s3.amazonaws.com/fast-ai-sample/imdb_sample.tgz\n"
     ]
    }
   ],
   "source": [
    "print(URLs.IMDB_SAMPLE)"
   ]
  },
  {
   "cell_type": "code",
   "execution_count": 7,
   "metadata": {},
   "outputs": [
    {
     "data": {
      "text/plain": [
       "(#1) [Path('/home/joseph/.fastai/data/imdb_sample/texts.csv')]"
      ]
     },
     "execution_count": 7,
     "metadata": {},
     "output_type": "execute_result"
    }
   ],
   "source": [
    "path = untar_data(URLs.IMDB_SAMPLE)\n",
    "type(path)\n",
    "path.ls()"
   ]
  },
  {
   "cell_type": "markdown",
   "metadata": {},
   "source": [
    "this data is from stanford web site directly \n",
    "why is the structure so different? \n"
   ]
  },
  {
   "cell_type": "code",
   "execution_count": 10,
   "metadata": {},
   "outputs": [
    {
     "data": {
      "text/html": [
       "<div>\n",
       "<style scoped>\n",
       "    .dataframe tbody tr th:only-of-type {\n",
       "        vertical-align: middle;\n",
       "    }\n",
       "\n",
       "    .dataframe tbody tr th {\n",
       "        vertical-align: top;\n",
       "    }\n",
       "\n",
       "    .dataframe thead th {\n",
       "        text-align: right;\n",
       "    }\n",
       "</style>\n",
       "<table border=\"1\" class=\"dataframe\">\n",
       "  <thead>\n",
       "    <tr style=\"text-align: right;\">\n",
       "      <th></th>\n",
       "      <th>label</th>\n",
       "      <th>text</th>\n",
       "      <th>is_valid</th>\n",
       "    </tr>\n",
       "  </thead>\n",
       "  <tbody>\n",
       "    <tr>\n",
       "      <th>0</th>\n",
       "      <td>negative</td>\n",
       "      <td>Un-bleeping-believable! Meg Ryan doesn't even look her usual pert lovable self in this, which normally makes me forgive her shallow ticky acting schtick. Hard to believe she was the producer on this dog. Plus Kevin Kline: what kind of suicide trip has his career been on? Whoosh... Banzai!!! Finally this was directed by the guy who did Big Chill? Must be a replay of Jonestown - hollywood style. Wooofff!</td>\n",
       "      <td>False</td>\n",
       "    </tr>\n",
       "    <tr>\n",
       "      <th>1</th>\n",
       "      <td>positive</td>\n",
       "      <td>This is a extremely well-made film. The acting, script and camera-work are all first-rate. The music is good, too, though it is mostly early in the film, when things are still relatively cheery. There are no really superstars in the cast, though several faces will be familiar. The entire cast does an excellent job with the script.&lt;br /&gt;&lt;br /&gt;But it is hard to watch, because there is no good end to a situation like the one presented. It is now fashionable to blame the British for setting Hindus and Muslims against each other, and then cruelly separating them into two countries. There is som...</td>\n",
       "      <td>False</td>\n",
       "    </tr>\n",
       "    <tr>\n",
       "      <th>2</th>\n",
       "      <td>negative</td>\n",
       "      <td>Every once in a long while a movie will come along that will be so awful that I feel compelled to warn people. If I labor all my days and I can save but one soul from watching this movie, how great will be my joy.&lt;br /&gt;&lt;br /&gt;Where to begin my discussion of pain. For starters, there was a musical montage every five minutes. There was no character development. Every character was a stereotype. We had swearing guy, fat guy who eats donuts, goofy foreign guy, etc. The script felt as if it were being written as the movie was being shot. The production value was so incredibly low that it felt li...</td>\n",
       "      <td>False</td>\n",
       "    </tr>\n",
       "    <tr>\n",
       "      <th>3</th>\n",
       "      <td>positive</td>\n",
       "      <td>Name just says it all. I watched this movie with my dad when it came out and having served in Korea he had great admiration for the man. The disappointing thing about this film is that it only concentrate on a short period of the man's life - interestingly enough the man's entire life would have made such an epic bio-pic that it is staggering to imagine the cost for production.&lt;br /&gt;&lt;br /&gt;Some posters elude to the flawed characteristics about the man, which are cheap shots. The theme of the movie \"Duty, Honor, Country\" are not just mere words blathered from the lips of a high-brassed offic...</td>\n",
       "      <td>False</td>\n",
       "    </tr>\n",
       "    <tr>\n",
       "      <th>4</th>\n",
       "      <td>negative</td>\n",
       "      <td>This movie succeeds at being one of the most unique movies you've seen. However this comes from the fact that you can't make heads or tails of this mess. It almost seems as a series of challenges set up to determine whether or not you are willing to walk out of the movie and give up the money you just paid. If you don't want to feel slighted you'll sit through this horrible film and develop a real sense of pity for the actors involved, they've all seen better days, but then you realize they actually got paid quite a bit of money to do this and you'll lose pity for them just like you've alr...</td>\n",
       "      <td>False</td>\n",
       "    </tr>\n",
       "  </tbody>\n",
       "</table>\n",
       "</div>"
      ],
      "text/plain": [
       "      label  \\\n",
       "0  negative   \n",
       "1  positive   \n",
       "2  negative   \n",
       "3  positive   \n",
       "4  negative   \n",
       "\n",
       "                                                                                                                                                                                                                                                                                                                                                                                                                                                                                                                                                                                                                      text  \\\n",
       "0                                                                                                                                                                                                    Un-bleeping-believable! Meg Ryan doesn't even look her usual pert lovable self in this, which normally makes me forgive her shallow ticky acting schtick. Hard to believe she was the producer on this dog. Plus Kevin Kline: what kind of suicide trip has his career been on? Whoosh... Banzai!!! Finally this was directed by the guy who did Big Chill? Must be a replay of Jonestown - hollywood style. Wooofff!   \n",
       "1  This is a extremely well-made film. The acting, script and camera-work are all first-rate. The music is good, too, though it is mostly early in the film, when things are still relatively cheery. There are no really superstars in the cast, though several faces will be familiar. The entire cast does an excellent job with the script.<br /><br />But it is hard to watch, because there is no good end to a situation like the one presented. It is now fashionable to blame the British for setting Hindus and Muslims against each other, and then cruelly separating them into two countries. There is som...   \n",
       "2  Every once in a long while a movie will come along that will be so awful that I feel compelled to warn people. If I labor all my days and I can save but one soul from watching this movie, how great will be my joy.<br /><br />Where to begin my discussion of pain. For starters, there was a musical montage every five minutes. There was no character development. Every character was a stereotype. We had swearing guy, fat guy who eats donuts, goofy foreign guy, etc. The script felt as if it were being written as the movie was being shot. The production value was so incredibly low that it felt li...   \n",
       "3  Name just says it all. I watched this movie with my dad when it came out and having served in Korea he had great admiration for the man. The disappointing thing about this film is that it only concentrate on a short period of the man's life - interestingly enough the man's entire life would have made such an epic bio-pic that it is staggering to imagine the cost for production.<br /><br />Some posters elude to the flawed characteristics about the man, which are cheap shots. The theme of the movie \"Duty, Honor, Country\" are not just mere words blathered from the lips of a high-brassed offic...   \n",
       "4  This movie succeeds at being one of the most unique movies you've seen. However this comes from the fact that you can't make heads or tails of this mess. It almost seems as a series of challenges set up to determine whether or not you are willing to walk out of the movie and give up the money you just paid. If you don't want to feel slighted you'll sit through this horrible film and develop a real sense of pity for the actors involved, they've all seen better days, but then you realize they actually got paid quite a bit of money to do this and you'll lose pity for them just like you've alr...   \n",
       "\n",
       "   is_valid  \n",
       "0     False  \n",
       "1     False  \n",
       "2     False  \n",
       "3     False  \n",
       "4     False  "
      ]
     },
     "execution_count": 10,
     "metadata": {},
     "output_type": "execute_result"
    }
   ],
   "source": [
    "df = pd.read_csv(path/'texts.csv') \n",
    "df.head()"
   ]
  },
  {
   "cell_type": "code",
   "execution_count": 13,
   "metadata": {},
   "outputs": [],
   "source": [
    "# df = pd.read_csv('/home/joseph/Downloads/aclImdb_v1.tar.gz', compression='gzip', header=0, sep=' ', quotechar='\"', error_bad_lines=False)\n",
    "#df = pd.read_csv('/home/joseph/Downloads/aclImdb_v1.tar.gz', compression='gzip', header=0, sep=' ', quotechar='\"', error_bad_lines=False)\n",
    "#df.head()"
   ]
  },
  {
   "cell_type": "markdown",
   "metadata": {},
   "source": [
    "## Glue CoLA dataset from Hugging Face \n",
    "- Glue stands for general language understanding evaluation \n",
    "- It has a benchmark of nine language understanding task \n",
    "- It has a diagnostic dataset to evaluate model performance \n",
    "- A public leaderboard \n",
    "- Here is the code used to download the CoLA dataset \n"
   ]
  },
  {
   "cell_type": "code",
   "execution_count": 16,
   "metadata": {},
   "outputs": [
    {
     "data": {
      "text/plain": [
       "('test.zip', <http.client.HTTPMessage at 0x7f81f2385fd0>)"
      ]
     },
     "execution_count": 16,
     "metadata": {},
     "output_type": "execute_result"
    }
   ],
   "source": [
    "import urllib\n",
    "TASK2PATH = 'https://dl.fbaipublicfiles.com/glue/data/CoLA.zip'\n",
    "urllib.request.urlretrieve(TASK2PATH, 'test.zip')\n"
   ]
  },
  {
   "cell_type": "code",
   "execution_count": 23,
   "metadata": {},
   "outputs": [],
   "source": [
    "# https://pytorchnlp.readthedocs.io/en/latest/_modules/torchnlp/download.html#download_file_maybe_extract\n",
    "import zipfile \n",
    "compressed_filename = \"test.zip\"\n",
    "extension = 'zip'\n",
    "directory = ''\n",
    "if 'zip' in extension:\n",
    "    with zipfile.ZipFile(compressed_filename, \"r\") as zip_:\n",
    "        zip_.extractall(directory)\n",
    "elif 'tar.gz' in extension or 'tgz' in extension:\n",
    "    # `tar` is much faster than python's `tarfile` implementation\n",
    "    subprocess.call(['tar', '-C', directory, '-zxvf', compressed_filename])\n",
    "elif 'tar' in extension:\n",
    "    subprocess.call(['tar', '-C', directory, '-xvf', compressed_filename]) "
   ]
  },
  {
   "cell_type": "code",
   "execution_count": 32,
   "metadata": {},
   "outputs": [
    {
     "name": "stdout",
     "output_type": "stream",
     "text": [
      "['.ipynb_checkpoints', 'CoLA', 'collect_data.ipynb', 'test.zip']\n",
      "['collect_data.ipynb', 'test.zip']\n"
     ]
    }
   ],
   "source": [
    "import os\n",
    "print( os.listdir() )\n",
    "onlyFiles = [ f for f in os.listdir() if os.path.isfile(os.path.join('', f)) ]\n",
    "print(onlyFiles)"
   ]
  },
  {
   "cell_type": "markdown",
   "metadata": {},
   "source": [
    "## Titanic dataset from Kaggle \n",
    "1. Here is the code to download the titanic challenge dataset. It uses the Kaggle API and subprocess in Jupyter. \n",
    "2. Another way to download the dataset is using !kaggle in Jupyter. The exclamation mark (!) allows users to run shell commands from Jupyter Notebook. \n",
    "3. Kaggle also has the IMDB dataset. Here I used Kaggle in Jupyter to download the IMDB dataset. \n"
   ]
  },
  {
   "cell_type": "code",
   "execution_count": 3,
   "metadata": {},
   "outputs": [
    {
     "name": "stdout",
     "output_type": "stream",
     "text": [
      "b'ref                                             deadline             category            reward  teamCount  userHasEntered  \\n'\n",
      "b'----------------------------------------------  -------------------  ---------------  ---------  ---------  --------------  \\n'\n",
      "b'contradictory-my-dear-watson                    2030-07-01 23:59:00  Getting Started     Prizes         65           False  \\n'\n",
      "b'gan-getting-started                             2030-07-01 23:59:00  Getting Started     Prizes         94           False  \\n'\n",
      "b'store-sales-time-series-forecasting             2030-06-30 23:59:00  Getting Started  Knowledge        884           False  \\n'\n",
      "b'tpu-getting-started                             2030-06-03 23:59:00  Getting Started  Knowledge        157           False  \\n'\n",
      "b'digit-recognizer                                2030-01-01 00:00:00  Getting Started  Knowledge       1307           False  \\n'\n",
      "b'titanic                                         2030-01-01 00:00:00  Getting Started  Knowledge      14088           False  \\n'\n",
      "b'house-prices-advanced-regression-techniques     2030-01-01 00:00:00  Getting Started  Knowledge       4570           False  \\n'\n",
      "b'connectx                                        2030-01-01 00:00:00  Getting Started  Knowledge        213           False  \\n'\n",
      "b'nlp-getting-started                             2030-01-01 00:00:00  Getting Started  Knowledge        893           False  \\n'\n",
      "b'spaceship-titanic                               2030-01-01 00:00:00  Getting Started  Knowledge       2779           False  \\n'\n",
      "b'learning-equality-curriculum-recommendations    2023-03-14 23:59:00  Featured           $55,000         62           False  \\n'\n",
      "b'godaddy-microbusiness-density-forecasting       2023-03-14 23:59:00  Featured           $60,000        128           False  \\n'\n",
      "b'nfl-player-contact-detection                    2023-03-01 23:59:00  Featured          $100,000        169           False  \\n'\n",
      "b'rsna-breast-cancer-detection                    2023-02-27 23:59:00  Featured           $50,000        496           False  \\n'\n",
      "b'otto-recommender-system                         2023-01-31 23:59:00  Featured           $30,000       1602           False  \\n'\n",
      "b'santa-2022                                      2023-01-17 23:59:00  Featured           $50,000        486           False  \\n'\n",
      "b'nfl-big-data-bowl-2023                          2023-01-09 23:59:00  Analytics         $100,000          0           False  \\n'\n",
      "b'g2net-detecting-continuous-gravitational-waves  2023-01-03 23:59:00  Research           $25,000        853           False  \\n'\n",
      "b'novozymes-enzyme-stability-prediction           2023-01-03 23:59:00  Featured           $25,000       2236           False  \\n'\n",
      "b'dfl-bundesliga-data-shootout                    2022-12-20 23:59:00  Featured           $25,000        530           False  \\n'\n"
     ]
    }
   ],
   "source": [
    "import subprocess\n",
    "# subprocess.call(['kaggle', 'datasets' ,'list' ,'-s' ,'imdb'])\n",
    "# subprocess.call(['kaggle', 'competitions', 'list'])\n",
    "from subprocess import Popen, PIPE, STDOUT\n",
    "p = Popen(['kaggle competitions list'], stdout = PIPE, stderr = STDOUT, shell = True)\n",
    "for line in p.stdout:\n",
    "    print( line )"
   ]
  },
  {
   "cell_type": "code",
   "execution_count": 4,
   "metadata": {},
   "outputs": [
    {
     "name": "stdout",
     "output_type": "stream",
     "text": [
      "b'ref                                                             title                                             size  lastUpdated          downloadCount  voteCount  usabilityRating  \\n'\n",
      "b'--------------------------------------------------------------  -----------------------------------------------  -----  -------------------  -------------  ---------  ---------------  \\n'\n",
      "b'ashirwadsangwan/imdb-dataset                                    IMDb Dataset                                       1GB  2022-12-15 04:18:33          13591        230  0.8235294        \\n'\n",
      "b'harshitshankhdhar/imdb-dataset-of-top-1000-movies-and-tv-shows  IMDB Movies Dataset                              175KB  2021-02-01 07:35:48          19633        249  1.0              \\n'\n",
      "b'lakshmi25npathi/imdb-dataset-of-50k-movie-reviews               IMDB Dataset of 50K Movie Reviews                 26MB  2019-03-09 06:32:21          95880        835  0.8235294        \\n'\n",
      "b'sankha1998/tmdb-top-10000-popular-movies-dataset                Popular Movies of IMDb                             1MB  2022-12-15 06:18:29           2949        106  1.0              \\n'\n",
      "b'PromptCloudHQ/imdb-data                                         IMDB data from 2006 to 2016                      134KB  2017-06-26 07:32:04          34850        373  1.0              \\n'\n",
      "b'luiscorter/netflix-original-films-imdb-scores                   Netflix Original Films & IMDB Scores              12KB  2021-06-03 23:24:57          12569        176  1.0              \\n'\n",
      "b'rmisra/imdb-spoiler-dataset                                     IMDB Spoiler Dataset                             331MB  2019-05-22 04:44:43           2587         56  1.0              \\n'\n",
      "b'luisfredgs/imdb-ptbr                                            IMDB PT-BR                                        48MB  2018-09-10 19:53:46           5632         83  0.7352941        \\n'\n",
      "b'utathya/imdb-review-dataset                                     IMDB Review Dataset                               51MB  2018-01-16 17:53:30          13136        117  0.5294118        \\n'\n",
      "b'hijest/genre-classification-dataset-imdb                        Genre Classification Dataset IMDb                 42MB  2021-06-18 09:23:46           1638         57  1.0              \\n'\n",
      "b'ramjasmaurya/top-250s-in-imdb                                   Top 1000s in IMDB                                355KB  2022-06-29 07:06:14           2208         67  1.0              \\n'\n",
      "b'muhammadadiltalay/imdb-video-games                              IMDB Video Games                                   1MB  2022-09-02 07:15:52           1977         50  0.9705882        \\n'\n",
      "b'carolzhangdc/imdb-5000-movie-dataset                            IMDB 5000 Movie Dataset                          554KB  2017-12-16 06:54:20          33745        306  0.44117647       \\n'\n",
      "b'yasserh/imdb-movie-ratings-sentiment-analysis                   IMDB Movie Ratings Sentiment Analysis             21MB  2022-01-19 11:37:49           2736         53  1.0              \\n'\n",
      "b'pawankumargunjan/imdb-review                                    IMDB Review                                      111MB  2022-11-18 04:30:08            620         28  0.9375           \\n'\n",
      "b'dionisiusdh/imdb-indonesian-movies                              IMDb Indonesian Movies                           175KB  2020-09-05 08:51:38           1324         28  1.0              \\n'\n",
      "b'adrianmcmahon/imdb-india-movies                                 IMDb India Movies                                494KB  2021-06-18 01:04:21            691         22  1.0              \\n'\n",
      "b'columbine/imdb-dataset-sentiment-analysis-in-csv-format         IMDB dataset (Sentiment analysis) in CSV format   26MB  2019-11-28 15:44:05          15294        104  1.0              \\n'\n",
      "b'ebiswas/imdb-review-dataset                                     IMDb Review Dataset - ebD                          3GB  2021-01-11 18:49:12           1943         26  1.0              \\n'\n",
      "b'darshan1504/imdb-movie-reviews-2021                             IMDB Movie Reviews 2021                            1MB  2021-05-31 12:18:32           1680         35  0.875            \\n'\n"
     ]
    }
   ],
   "source": [
    "p = Popen(['kaggle datasets list -s imdb'], stdout = PIPE, stderr = STDOUT, shell = True)\n",
    "for line in p.stdout:\n",
    "    print( line )"
   ]
  },
  {
   "cell_type": "code",
   "execution_count": 5,
   "metadata": {},
   "outputs": [
    {
     "name": "stdout",
     "output_type": "stream",
     "text": [
      "b'\\r  0%|          | 0.00/34.1k [00:00<?, ?B/s]\\r100%|\\xe2\\x96\\x88\\xe2\\x96\\x88\\xe2\\x96\\x88\\xe2\\x96\\x88\\xe2\\x96\\x88\\xe2\\x96\\x88\\xe2\\x96\\x88\\xe2\\x96\\x88\\xe2\\x96\\x88\\xe2\\x96\\x88| 34.1k/34.1k [00:00<00:00, 1.04MB/s]\\n'\n",
      "b'Downloading titanic.zip to /home/joseph/Documents/mec-mini-projects/proj-3.4.2-Collect-Data\\n'\n",
      "b'\\n'\n"
     ]
    }
   ],
   "source": [
    "    \n",
    "p = Popen(['kaggle competitions download -c titanic'], stdout = PIPE, stderr = STDOUT, shell = True)\n",
    "for line in p.stdout:\n",
    "    print( line )"
   ]
  },
  {
   "cell_type": "markdown",
   "metadata": {},
   "source": [
    "import kaggle\n",
    "pip install kaggle\n",
    "kaggle\n",
    "kaggle competitions list\n",
    "kaggle competitions download -c titanic\n",
    "unzip titanic.zip \n",
    "kaggle datasets list -s imdb\n",
    "kaggle datasets download -d lakshmi25npathi/imdb-dataset-of-50k-movie-reviews\n"
   ]
  },
  {
   "cell_type": "code",
   "execution_count": 6,
   "metadata": {},
   "outputs": [
    {
     "name": "stdout",
     "output_type": "stream",
     "text": [
      "ref                                             deadline             category            reward  teamCount  userHasEntered  \n",
      "----------------------------------------------  -------------------  ---------------  ---------  ---------  --------------  \n",
      "contradictory-my-dear-watson                    2030-07-01 23:59:00  Getting Started     Prizes         65           False  \n",
      "gan-getting-started                             2030-07-01 23:59:00  Getting Started     Prizes         94           False  \n",
      "store-sales-time-series-forecasting             2030-06-30 23:59:00  Getting Started  Knowledge        884           False  \n",
      "tpu-getting-started                             2030-06-03 23:59:00  Getting Started  Knowledge        156           False  \n",
      "digit-recognizer                                2030-01-01 00:00:00  Getting Started  Knowledge       1307           False  \n",
      "titanic                                         2030-01-01 00:00:00  Getting Started  Knowledge      14085           False  \n",
      "house-prices-advanced-regression-techniques     2030-01-01 00:00:00  Getting Started  Knowledge       4569           False  \n",
      "connectx                                        2030-01-01 00:00:00  Getting Started  Knowledge        212           False  \n",
      "nlp-getting-started                             2030-01-01 00:00:00  Getting Started  Knowledge        893           False  \n",
      "spaceship-titanic                               2030-01-01 00:00:00  Getting Started  Knowledge       2779           False  \n",
      "learning-equality-curriculum-recommendations    2023-03-14 23:59:00  Featured           $55,000         62           False  \n",
      "godaddy-microbusiness-density-forecasting       2023-03-14 23:59:00  Featured           $60,000        128           False  \n",
      "nfl-player-contact-detection                    2023-03-01 23:59:00  Featured          $100,000        169           False  \n",
      "rsna-breast-cancer-detection                    2023-02-27 23:59:00  Featured           $50,000        496           False  \n",
      "otto-recommender-system                         2023-01-31 23:59:00  Featured           $30,000       1601           False  \n",
      "santa-2022                                      2023-01-17 23:59:00  Featured           $50,000        486           False  \n",
      "nfl-big-data-bowl-2023                          2023-01-09 23:59:00  Analytics         $100,000          0           False  \n",
      "g2net-detecting-continuous-gravitational-waves  2023-01-03 23:59:00  Research           $25,000        853           False  \n",
      "novozymes-enzyme-stability-prediction           2023-01-03 23:59:00  Featured           $25,000       2232           False  \n",
      "dfl-bundesliga-data-shootout                    2022-12-20 23:59:00  Featured           $25,000        530           False  \n"
     ]
    }
   ],
   "source": [
    "import kaggle\n",
    "# In IPython syntax, the exclamation mark (!) allows users to run shell commands from inside a Jupyter Notebook code cell. \n",
    "!kaggle competitions list"
   ]
  },
  {
   "cell_type": "code",
   "execution_count": 6,
   "metadata": {},
   "outputs": [
    {
     "name": "stdout",
     "output_type": "stream",
     "text": [
      "ref                                                             title                                             size  lastUpdated          downloadCount  voteCount  usabilityRating  \n",
      "--------------------------------------------------------------  -----------------------------------------------  -----  -------------------  -------------  ---------  ---------------  \n",
      "ashirwadsangwan/imdb-dataset                                    IMDb Dataset                                       1GB  2022-12-15 04:18:33          13591        230  0.8235294        \n",
      "harshitshankhdhar/imdb-dataset-of-top-1000-movies-and-tv-shows  IMDB Movies Dataset                              175KB  2021-02-01 07:35:48          19633        249  1.0              \n",
      "lakshmi25npathi/imdb-dataset-of-50k-movie-reviews               IMDB Dataset of 50K Movie Reviews                 26MB  2019-03-09 06:32:21          95880        835  0.8235294        \n",
      "sankha1998/tmdb-top-10000-popular-movies-dataset                Popular Movies of IMDb                             1MB  2022-12-15 06:18:29           2949        106  1.0              \n",
      "PromptCloudHQ/imdb-data                                         IMDB data from 2006 to 2016                      134KB  2017-06-26 07:32:04          34850        373  1.0              \n",
      "luiscorter/netflix-original-films-imdb-scores                   Netflix Original Films & IMDB Scores              12KB  2021-06-03 23:24:57          12569        176  1.0              \n",
      "rmisra/imdb-spoiler-dataset                                     IMDB Spoiler Dataset                             331MB  2019-05-22 04:44:43           2587         56  1.0              \n",
      "luisfredgs/imdb-ptbr                                            IMDB PT-BR                                        48MB  2018-09-10 19:53:46           5632         83  0.7352941        \n",
      "utathya/imdb-review-dataset                                     IMDB Review Dataset                               51MB  2018-01-16 17:53:30          13136        117  0.5294118        \n",
      "hijest/genre-classification-dataset-imdb                        Genre Classification Dataset IMDb                 42MB  2021-06-18 09:23:46           1638         57  1.0              \n",
      "ramjasmaurya/top-250s-in-imdb                                   Top 1000s in IMDB                                355KB  2022-06-29 07:06:14           2208         67  1.0              \n",
      "muhammadadiltalay/imdb-video-games                              IMDB Video Games                                   1MB  2022-09-02 07:15:52           1977         50  0.9705882        \n",
      "carolzhangdc/imdb-5000-movie-dataset                            IMDB 5000 Movie Dataset                          554KB  2017-12-16 06:54:20          33745        306  0.44117647       \n",
      "yasserh/imdb-movie-ratings-sentiment-analysis                   IMDB Movie Ratings Sentiment Analysis             21MB  2022-01-19 11:37:49           2736         53  1.0              \n",
      "pawankumargunjan/imdb-review                                    IMDB Review                                      111MB  2022-11-18 04:30:08            620         28  0.9375           \n",
      "dionisiusdh/imdb-indonesian-movies                              IMDb Indonesian Movies                           175KB  2020-09-05 08:51:38           1324         28  1.0              \n",
      "adrianmcmahon/imdb-india-movies                                 IMDb India Movies                                494KB  2021-06-18 01:04:21            691         22  1.0              \n",
      "columbine/imdb-dataset-sentiment-analysis-in-csv-format         IMDB dataset (Sentiment analysis) in CSV format   26MB  2019-11-28 15:44:05          15294        104  1.0              \n",
      "ebiswas/imdb-review-dataset                                     IMDb Review Dataset - ebD                          3GB  2021-01-11 18:49:12           1943         26  1.0              \n",
      "darshan1504/imdb-movie-reviews-2021                             IMDB Movie Reviews 2021                            1MB  2021-05-31 12:18:32           1680         35  0.875            \n",
      "imdb-dataset-of-50k-movie-reviews.zip: Skipping, found more recently modified local copy (use --force to force download)\n"
     ]
    }
   ],
   "source": [
    "!kaggle datasets list -s imdb\n",
    "!kaggle datasets download -d lakshmi25npathi/imdb-dataset-of-50k-movie-reviews"
   ]
  },
  {
   "cell_type": "markdown",
   "metadata": {},
   "source": [
    "## Trying to get Common Crawl data (failed)\n",
    "Here I was trying to get some common crawl data. Though the speed was slow, I could get the filename from the common crawl index site. But when I try to access the data on amazon s3 (https://aws-publicdatasets.s3.amazonaws.com/ and 'https://commoncrawl.s3.amazonaws.com/') sometimes I get access denied sometimes get no such key. Not sure why it failed, but I suspect we need to register for aws s3 to gain access. "
   ]
  },
  {
   "cell_type": "code",
   "execution_count": 8,
   "metadata": {},
   "outputs": [
    {
     "data": {
      "text/plain": [
       "200"
      ]
     },
     "execution_count": 8,
     "metadata": {},
     "output_type": "execute_result"
    }
   ],
   "source": [
    "import requests \n",
    "# domain = \"reddit.com/r/MachineLearning\"\n",
    "domain = \"bellingcat.com\"\n",
    "index  = [\"2019-51\"]\n",
    "cc_url = \"http://index.commoncrawl.org/CC-MAIN-%s-index?\" % index\n",
    "cc_url += \"url=%s?matchType=domain&output=json\" % domain \n",
    "# cc_url = 'http://index.commoncrawl.org/CC-MAIN-2019-51-index?url=reddit.com%2Fr%2FMachineLearning&output=json&showNumPages=true'\n",
    "#cc_url = 'http://index.commoncrawl.org/CC-MAIN-2019-51-index?url=reddit.com&output=json&showNumPages=true'\n",
    "cc_url = 'http://index.commoncrawl.org/CC-MAIN-2019-47-index?url=imdb.com&output=json'\n",
    "res = requests.get(cc_url)\n",
    "res.status_code"
   ]
  },
  {
   "cell_type": "code",
   "execution_count": 9,
   "metadata": {},
   "outputs": [
    {
     "data": {
      "text/plain": [
       "[b'{\"urlkey\": \"com,imdb)/\", \"timestamp\": \"20191111211620\", \"url\": \"https://www.imdb.com/\", \"mime\": \"text/html\", \"mime-detected\": \"text/html\", \"status\": \"200\", \"digest\": \"JC4RTQMF3SU2UOF6EHEDBT7CIDSN5T5J\", \"length\": \"31787\", \"offset\": \"812482853\", \"filename\": \"crawl-data/CC-MAIN-2019-47/segments/1573496664437.49/warc/CC-MAIN-20191111191704-20191111215704-00515.warc.gz\", \"languages\": \"eng\", \"encoding\": \"UTF-8\"}',\n",
       " b'{\"urlkey\": \"com,imdb)/\", \"timestamp\": \"20191112015707\", \"url\": \"https://www.imdb.com/\", \"mime\": \"text/html\", \"mime-detected\": \"text/html\", \"status\": \"200\", \"digest\": \"GCICAIUUTN5M5AX6RLCXPNA4NTD6DLBD\", \"length\": \"31793\", \"offset\": \"828860376\", \"filename\": \"crawl-data/CC-MAIN-2019-47/segments/1573496664469.42/warc/CC-MAIN-20191112001515-20191112025515-00515.warc.gz\", \"languages\": \"eng\", \"encoding\": \"UTF-8\"}',\n",
       " b'{\"urlkey\": \"com,imdb)/\", \"timestamp\": \"20191112140907\", \"url\": \"https://www.imdb.com/\", \"mime\": \"text/html\", \"mime-detected\": \"text/html\", \"status\": \"200\", \"digest\": \"EDSTQ5SJVWG4U342SPZAFVJ6J3B4IWIB\", \"length\": \"31646\", \"offset\": \"856881696\", \"filename\": \"crawl-data/CC-MAIN-2019-47/segments/1573496665573.50/warc/CC-MAIN-20191112124615-20191112152615-00515.warc.gz\", \"languages\": \"eng\", \"encoding\": \"UTF-8\"}',\n",
       " b'{\"urlkey\": \"com,imdb)/\", \"timestamp\": \"20191112182739\", \"url\": \"https://www.imdb.com/\", \"mime\": \"text/html\", \"mime-detected\": \"text/html\", \"status\": \"200\", \"digest\": \"ZJPHRF7KIVSYX3GYCG27EK2MEOQLSNF7\", \"length\": \"31595\", \"offset\": \"845562062\", \"filename\": \"crawl-data/CC-MAIN-2019-47/segments/1573496665726.39/warc/CC-MAIN-20191112175604-20191112203604-00515.warc.gz\", \"languages\": \"eng\", \"encoding\": \"UTF-8\"}',\n",
       " b'{\"urlkey\": \"com,imdb)/\", \"timestamp\": \"20191113150855\", \"url\": \"https://www.imdb.com/\", \"mime\": \"text/html\", \"mime-detected\": \"text/html\", \"status\": \"200\", \"digest\": \"MB452DR3Z5RHHKA45XUL4S5HJPB264BJ\", \"length\": \"31374\", \"offset\": \"837976505\", \"filename\": \"crawl-data/CC-MAIN-2019-47/segments/1573496667262.54/warc/CC-MAIN-20191113140725-20191113164725-00515.warc.gz\", \"languages\": \"eng\", \"encoding\": \"UTF-8\"}',\n",
       " b'{\"urlkey\": \"com,imdb)/\", \"timestamp\": \"20191114005648\", \"url\": \"https://www.imdb.com/\", \"mime\": \"text/html\", \"mime-detected\": \"text/html\", \"status\": \"200\", \"digest\": \"3EYJWMVWI6226ETHU6UURFVQTLYVC7HV\", \"length\": \"31546\", \"offset\": \"843607146\", \"filename\": \"crawl-data/CC-MAIN-2019-47/segments/1573496667767.6/warc/CC-MAIN-20191114002636-20191114030636-00515.warc.gz\", \"languages\": \"eng\", \"encoding\": \"UTF-8\"}',\n",
       " b'{\"urlkey\": \"com,imdb)/\", \"timestamp\": \"20191115081330\", \"url\": \"https://www.imdb.com/\", \"mime\": \"text/html\", \"mime-detected\": \"text/html\", \"status\": \"200\", \"digest\": \"SQHIMH3P2DYTRDDQ5UUQYGI2XJHXS6OO\", \"length\": \"31245\", \"offset\": \"843676710\", \"filename\": \"crawl-data/CC-MAIN-2019-47/segments/1573496668594.81/warc/CC-MAIN-20191115065903-20191115093903-00515.warc.gz\", \"languages\": \"eng\", \"encoding\": \"UTF-8\"}',\n",
       " b'{\"urlkey\": \"com,imdb)/\", \"timestamp\": \"20191115121918\", \"url\": \"http://www.imdb.com/\", \"mime\": \"unk\", \"mime-detected\": \"application/octet-stream\", \"status\": \"301\", \"digest\": \"3I42H3S6NNFQ2MSVX7XZKYAYSCX5QBYJ\", \"length\": \"591\", \"offset\": \"14363400\", \"filename\": \"crawl-data/CC-MAIN-2019-47/segments/1573496668644.10/crawldiagnostics/CC-MAIN-20191115120854-20191115144854-00290.warc.gz\", \"redirect\": \"https://www.imdb.com/\"}',\n",
       " b'{\"urlkey\": \"com,imdb)/\", \"timestamp\": \"20191115121918\", \"url\": \"https://www.imdb.com/\", \"mime\": \"text/html\", \"mime-detected\": \"text/html\", \"status\": \"200\", \"digest\": \"YTMH526ODVNUECH3IPVI44UYIL5LXKAX\", \"length\": \"31261\", \"offset\": \"849352801\", \"filename\": \"crawl-data/CC-MAIN-2019-47/segments/1573496668644.10/warc/CC-MAIN-20191115120854-20191115144854-00515.warc.gz\", \"languages\": \"eng\", \"encoding\": \"UTF-8\"}',\n",
       " b'{\"urlkey\": \"com,imdb)/\", \"timestamp\": \"20191115173145\", \"url\": \"https://www.imdb.com/\", \"mime\": \"text/html\", \"mime-detected\": \"text/html\", \"status\": \"200\", \"digest\": \"ROFLPL7WTOFFQXNWOKWGE4KAMOBNIFOL\", \"length\": \"31415\", \"offset\": \"804427839\", \"filename\": \"crawl-data/CC-MAIN-2019-47/segments/1573496668699.77/warc/CC-MAIN-20191115171915-20191115195915-00515.warc.gz\", \"languages\": \"eng\", \"encoding\": \"UTF-8\"}',\n",
       " b'{\"urlkey\": \"com,imdb)/\", \"timestamp\": \"20191117025641\", \"url\": \"https://www.imdb.com/\", \"mime\": \"text/html\", \"mime-detected\": \"text/html\", \"status\": \"200\", \"digest\": \"6P26IQ5R2YB6RZ5PGWT4JWV6F6N6NTDJ\", \"length\": \"32567\", \"offset\": \"856539386\", \"filename\": \"crawl-data/CC-MAIN-2019-47/segments/1573496668782.15/warc/CC-MAIN-20191117014405-20191117042405-00515.warc.gz\", \"languages\": \"eng\", \"encoding\": \"UTF-8\"}',\n",
       " b'{\"urlkey\": \"com,imdb)/\", \"timestamp\": \"20191117150728\", \"url\": \"http://www.imdb.com/\", \"mime\": \"text/html\", \"mime-detected\": \"text/html\", \"status\": \"301\", \"digest\": \"Z6IJ46JXZU7TCLCDINT3OMVFHV5GZPYU\", \"length\": \"708\", \"offset\": \"13259678\", \"filename\": \"crawl-data/CC-MAIN-2019-47/segments/1573496669183.52/crawldiagnostics/CC-MAIN-20191117142350-20191117170350-00290.warc.gz\", \"redirect\": \"https://www.imdb.com/\"}',\n",
       " b'{\"urlkey\": \"com,imdb)/\", \"timestamp\": \"20191117150728\", \"url\": \"https://www.imdb.com/\", \"mime\": \"text/html\", \"mime-detected\": \"text/html\", \"status\": \"200\", \"digest\": \"UWZ4RWTSEFS6GFA444XRZVTTVT37AFND\", \"length\": \"32216\", \"offset\": \"845920916\", \"filename\": \"crawl-data/CC-MAIN-2019-47/segments/1573496669183.52/warc/CC-MAIN-20191117142350-20191117170350-00515.warc.gz\", \"languages\": \"eng\", \"encoding\": \"UTF-8\"}',\n",
       " b'{\"urlkey\": \"com,imdb)/\", \"timestamp\": \"20191117180140\", \"url\": \"http://imdb.com/\", \"mime\": \"text/html\", \"mime-detected\": \"text/html\", \"status\": \"302\", \"digest\": \"CFUCBBNX3NYF62PYGSWHROQH2L3ADL7Z\", \"length\": \"642\", \"offset\": \"3885139\", \"filename\": \"crawl-data/CC-MAIN-2019-47/segments/1573496669225.56/crawldiagnostics/CC-MAIN-20191117165616-20191117193616-00137.warc.gz\", \"redirect\": \"https://www.imdb.com/\"}',\n",
       " b'{\"urlkey\": \"com,imdb)/\", \"timestamp\": \"20191117180140\", \"url\": \"https://www.imdb.com/\", \"mime\": \"text/html\", \"mime-detected\": \"text/html\", \"status\": \"200\", \"digest\": \"NUE3MGICTH2JDKMNRIAS2FGXRZJU3PPY\", \"length\": \"32585\", \"offset\": \"842843334\", \"filename\": \"crawl-data/CC-MAIN-2019-47/segments/1573496669225.56/warc/CC-MAIN-20191117165616-20191117193616-00515.warc.gz\", \"languages\": \"eng\", \"encoding\": \"UTF-8\"}',\n",
       " b'{\"urlkey\": \"com,imdb)/\", \"timestamp\": \"20191118051609\", \"url\": \"https://www.imdb.com/\", \"mime\": \"text/html\", \"mime-detected\": \"text/html\", \"status\": \"200\", \"digest\": \"6KEUY6PGAGCQJCZHBIGTXAGKSPTUQV63\", \"length\": \"32596\", \"offset\": \"851709723\", \"filename\": \"crawl-data/CC-MAIN-2019-47/segments/1573496669431.13/warc/CC-MAIN-20191118030116-20191118054116-00515.warc.gz\", \"languages\": \"eng\", \"encoding\": \"UTF-8\"}',\n",
       " b'{\"urlkey\": \"com,imdb)/\", \"timestamp\": \"20191118070011\", \"url\": \"http://www.imdb.com/\", \"mime\": \"unk\", \"mime-detected\": \"application/octet-stream\", \"status\": \"301\", \"digest\": \"3I42H3S6NNFQ2MSVX7XZKYAYSCX5QBYJ\", \"length\": \"590\", \"offset\": \"14230919\", \"filename\": \"crawl-data/CC-MAIN-2019-47/segments/1573496669454.33/crawldiagnostics/CC-MAIN-20191118053441-20191118081441-00290.warc.gz\", \"redirect\": \"https://www.imdb.com/\"}',\n",
       " b'{\"urlkey\": \"com,imdb)/\", \"timestamp\": \"20191118070011\", \"url\": \"https://www.imdb.com/\", \"mime\": \"text/html\", \"mime-detected\": \"text/html\", \"status\": \"200\", \"digest\": \"3DW5OAJTAK4MVVCXFVQBV7TJE6F54GLT\", \"length\": \"32656\", \"offset\": \"826915414\", \"filename\": \"crawl-data/CC-MAIN-2019-47/segments/1573496669454.33/warc/CC-MAIN-20191118053441-20191118081441-00515.warc.gz\", \"languages\": \"eng\", \"encoding\": \"UTF-8\"}',\n",
       " b'{\"urlkey\": \"com,imdb)/\", \"timestamp\": \"20191118114145\", \"url\": \"https://www.imdb.com/\", \"mime\": \"text/html\", \"mime-detected\": \"text/html\", \"status\": \"200\", \"digest\": \"OXW5NDYLFKLZUJF3TAIEJUATGXAQKDZ3\", \"length\": \"32118\", \"offset\": \"843590970\", \"filename\": \"crawl-data/CC-MAIN-2019-47/segments/1573496669755.17/warc/CC-MAIN-20191118104047-20191118132047-00515.warc.gz\", \"languages\": \"eng\", \"encoding\": \"UTF-8\"}',\n",
       " b'{\"urlkey\": \"com,imdb)/\", \"timestamp\": \"20191119060331\", \"url\": \"https://www.imdb.com/\", \"mime\": \"text/html\", \"mime-detected\": \"text/html\", \"status\": \"200\", \"digest\": \"4CM46LJEVHZDCNPOGPKV4AFROVLZ2PYQ\", \"length\": \"31846\", \"offset\": \"818462868\", \"filename\": \"crawl-data/CC-MAIN-2019-47/segments/1573496670006.89/warc/CC-MAIN-20191119042928-20191119070928-00515.warc.gz\", \"languages\": \"eng\", \"encoding\": \"UTF-8\"}',\n",
       " b'{\"urlkey\": \"com,imdb)/\", \"timestamp\": \"20191119090428\", \"url\": \"https://www.imdb.com/\", \"mime\": \"text/html\", \"mime-detected\": \"text/html\", \"status\": \"200\", \"digest\": \"3WPA6JAKAHEJOVPYQ2ASP4QJU44A7PXT\", \"length\": \"32063\", \"offset\": \"843992333\", \"filename\": \"crawl-data/CC-MAIN-2019-47/segments/1573496670036.23/warc/CC-MAIN-20191119070311-20191119094311-00515.warc.gz\", \"languages\": \"eng\", \"encoding\": \"UTF-8\"}',\n",
       " b'{\"urlkey\": \"com,imdb)/\", \"timestamp\": \"20191119233542\", \"url\": \"https://www.imdb.com/\", \"mime\": \"text/html\", \"mime-detected\": \"text/html\", \"status\": \"200\", \"digest\": \"6K6MG4K6ZIWWYJHHGDIFK4FNI6Q6IUC4\", \"length\": \"32039\", \"offset\": \"836935424\", \"filename\": \"crawl-data/CC-MAIN-2019-47/segments/1573496670268.0/warc/CC-MAIN-20191119222644-20191120010644-00515.warc.gz\", \"languages\": \"eng\", \"encoding\": \"UTF-8\"}',\n",
       " b'{\"urlkey\": \"com,imdb)/\", \"timestamp\": \"20191120112432\", \"url\": \"https://www.imdb.com/\", \"mime\": \"text/html\", \"mime-detected\": \"text/html\", \"status\": \"200\", \"digest\": \"2Z2D7HAWGQ6VJ2DGHJC2ZMMTGCLIG6JJ\", \"length\": \"32297\", \"offset\": \"821846602\", \"filename\": \"crawl-data/CC-MAIN-2019-47/segments/1573496670558.91/warc/CC-MAIN-20191120111249-20191120135249-00515.warc.gz\", \"languages\": \"eng\", \"encoding\": \"UTF-8\"}',\n",
       " b'{\"urlkey\": \"com,imdb)/\", \"timestamp\": \"20191120152825\", \"url\": \"http://www.imdb.com/\", \"mime\": \"unk\", \"mime-detected\": \"application/octet-stream\", \"status\": \"301\", \"digest\": \"3I42H3S6NNFQ2MSVX7XZKYAYSCX5QBYJ\", \"length\": \"589\", \"offset\": \"14155763\", \"filename\": \"crawl-data/CC-MAIN-2019-47/segments/1573496670559.66/crawldiagnostics/CC-MAIN-20191120134617-20191120162617-00290.warc.gz\", \"redirect\": \"https://www.imdb.com/\"}',\n",
       " b'{\"urlkey\": \"com,imdb)/\", \"timestamp\": \"20191120153122\", \"url\": \"https://www.imdb.com/\", \"mime\": \"text/html\", \"mime-detected\": \"text/html\", \"status\": \"200\", \"digest\": \"ZLV5S7D6OY5VOAIGAYSWXWSCZALS27A2\", \"length\": \"32296\", \"offset\": \"828832470\", \"filename\": \"crawl-data/CC-MAIN-2019-47/segments/1573496670559.66/warc/CC-MAIN-20191120134617-20191120162617-00515.warc.gz\", \"languages\": \"eng\", \"encoding\": \"UTF-8\"}',\n",
       " b'{\"urlkey\": \"com,imdb)/\", \"timestamp\": \"20191121070438\", \"url\": \"https://www.imdb.com/\", \"mime\": \"text/html\", \"mime-detected\": \"text/html\", \"status\": \"200\", \"digest\": \"4OYOM5E2M47G5IZXEK5JSSH3FCO2J5VQ\", \"length\": \"32006\", \"offset\": \"801866996\", \"filename\": \"crawl-data/CC-MAIN-2019-47/segments/1573496670731.88/warc/CC-MAIN-20191121050543-20191121074543-00515.warc.gz\", \"languages\": \"eng\", \"encoding\": \"UTF-8\"}',\n",
       " b'{\"urlkey\": \"com,imdb)/\", \"timestamp\": \"20191121140236\", \"url\": \"http://www.imdb.com/\", \"mime\": \"text/html\", \"mime-detected\": \"text/html\", \"status\": \"301\", \"digest\": \"Z6IJ46JXZU7TCLCDINT3OMVFHV5GZPYU\", \"length\": \"710\", \"offset\": \"14028156\", \"filename\": \"crawl-data/CC-MAIN-2019-47/segments/1573496670821.55/crawldiagnostics/CC-MAIN-20191121125509-20191121153509-00290.warc.gz\", \"redirect\": \"https://www.imdb.com/\"}',\n",
       " b'{\"urlkey\": \"com,imdb)/\", \"timestamp\": \"20191121140236\", \"url\": \"https://www.imdb.com/\", \"mime\": \"text/html\", \"mime-detected\": \"text/html\", \"status\": \"200\", \"digest\": \"5NI7Q56DRFJ2BTZ7AURARWZOMD3LMMDV\", \"length\": \"32319\", \"offset\": \"833542734\", \"filename\": \"crawl-data/CC-MAIN-2019-47/segments/1573496670821.55/warc/CC-MAIN-20191121125509-20191121153509-00515.warc.gz\", \"languages\": \"eng\", \"encoding\": \"UTF-8\"}',\n",
       " b'{\"urlkey\": \"com,imdb)/\", \"timestamp\": \"20191121205728\", \"url\": \"http://www.imdb.com/\", \"mime\": \"unk\", \"mime-detected\": \"application/octet-stream\", \"status\": \"301\", \"digest\": \"3I42H3S6NNFQ2MSVX7XZKYAYSCX5QBYJ\", \"length\": \"587\", \"offset\": \"14680878\", \"filename\": \"crawl-data/CC-MAIN-2019-47/segments/1573496670987.78/crawldiagnostics/CC-MAIN-20191121204227-20191121232227-00290.warc.gz\", \"redirect\": \"https://www.imdb.com/\"}',\n",
       " b'{\"urlkey\": \"com,imdb)/\", \"timestamp\": \"20191121205728\", \"url\": \"https://www.imdb.com/\", \"mime\": \"text/html\", \"mime-detected\": \"text/html\", \"status\": \"200\", \"digest\": \"GHNOOGODR2KNMANC7O4ZSYWCBXWEM562\", \"length\": \"32399\", \"offset\": \"839693078\", \"filename\": \"crawl-data/CC-MAIN-2019-47/segments/1573496670987.78/warc/CC-MAIN-20191121204227-20191121232227-00515.warc.gz\", \"languages\": \"eng\", \"encoding\": \"UTF-8\"}',\n",
       " b'{\"urlkey\": \"com,imdb)/\", \"timestamp\": \"20191122071200\", \"url\": \"https://www.imdb.com/\", \"mime\": \"text/html\", \"mime-detected\": \"text/html\", \"status\": \"200\", \"digest\": \"POCUKKVWGCYFIEZXUJLKHRNSFHZFEULQ\", \"length\": \"32395\", \"offset\": \"815763234\", \"filename\": \"crawl-data/CC-MAIN-2019-47/segments/1573496671245.92/warc/CC-MAIN-20191122065327-20191122093327-00515.warc.gz\", \"languages\": \"eng\", \"encoding\": \"UTF-8\"}',\n",
       " b'{\"urlkey\": \"com,imdb)/\", \"timestamp\": \"20191122115107\", \"url\": \"https://www.imdb.com/\", \"mime\": \"text/html\", \"mime-detected\": \"text/html\", \"status\": \"200\", \"digest\": \"FQQ7YOB4GIAX36O2QSHKDAUACBKQLBCK\", \"length\": \"31958\", \"offset\": \"818491258\", \"filename\": \"crawl-data/CC-MAIN-2019-47/segments/1573496671249.37/warc/CC-MAIN-20191122092537-20191122120537-00515.warc.gz\", \"languages\": \"eng\", \"encoding\": \"UTF-8\"}',\n",
       " b'{\"urlkey\": \"com,imdb)/\", \"timestamp\": \"20191122174914\", \"url\": \"https://www.imdb.com/\", \"mime\": \"text/html\", \"mime-detected\": \"text/html\", \"status\": \"200\", \"digest\": \"JJJ2ZQ7SS2PNRTRLGWRHH2RXSNH53HAH\", \"length\": \"41229\", \"offset\": \"837112928\", \"filename\": \"crawl-data/CC-MAIN-2019-47/segments/1573496671411.14/warc/CC-MAIN-20191122171140-20191122200140-00515.warc.gz\", \"languages\": \"eng\", \"encoding\": \"UTF-8\"}',\n",
       " b'{\"urlkey\": \"com,imdb)/\", \"timestamp\": \"20191122214722\", \"url\": \"http://imdb.com/\", \"mime\": \"text/html\", \"mime-detected\": \"text/html\", \"status\": \"302\", \"digest\": \"CFUCBBNX3NYF62PYGSWHROQH2L3ADL7Z\", \"length\": \"641\", \"offset\": \"3903744\", \"filename\": \"crawl-data/CC-MAIN-2019-47/segments/1573496671548.98/crawldiagnostics/CC-MAIN-20191122194802-20191122223802-00137.warc.gz\", \"redirect\": \"https://www.imdb.com/\"}',\n",
       " b'{\"urlkey\": \"com,imdb)/\", \"timestamp\": \"20191122214722\", \"url\": \"https://www.imdb.com/\", \"mime\": \"text/html\", \"mime-detected\": \"text/html\", \"status\": \"200\", \"digest\": \"3XSIRQS4EIMXMGSCVVJ2T3S3U6DL24PZ\", \"length\": \"32150\", \"offset\": \"821463686\", \"filename\": \"crawl-data/CC-MAIN-2019-47/segments/1573496671548.98/warc/CC-MAIN-20191122194802-20191122223802-00515.warc.gz\", \"languages\": \"eng\", \"encoding\": \"UTF-8\"}',\n",
       " b'{\"urlkey\": \"com,imdb)/\", \"timestamp\": \"20191122224254\", \"url\": \"https://www.imdb.com/\", \"mime\": \"text/html\", \"mime-detected\": \"text/html\", \"status\": \"200\", \"digest\": \"YF4BIQMTQ2TXH47LUPZ3MP6RGU5VJUPB\", \"length\": \"32321\", \"offset\": \"839875497\", \"filename\": \"crawl-data/CC-MAIN-2019-47/segments/1573496672170.93/warc/CC-MAIN-20191122222322-20191123011322-00515.warc.gz\", \"languages\": \"eng\", \"encoding\": \"UTF-8\"}']"
      ]
     },
     "execution_count": 9,
     "metadata": {},
     "output_type": "execute_result"
    }
   ],
   "source": [
    "res.content.splitlines()"
   ]
  },
  {
   "cell_type": "code",
   "execution_count": 13,
   "metadata": {},
   "outputs": [
    {
     "name": "stdout",
     "output_type": "stream",
     "text": [
      "403\n",
      "https://commoncrawl.s3.amazonaws.com/crawl-data/CC-MAIN-2019-47/crawl-data/CC-MAIN-2019-47/segments/1573496672170.93/warc/CC-MAIN-20191122222322-20191123011322-00515.warc.gz\n"
     ]
    }
   ],
   "source": [
    "#{\"urlkey\": \"com,imdb)/\", \"timestamp\": \"20191120112432\", \"url\": \"https://www.imdb.com/\", \"mime\": \"text/html\", \"mime-detected\": \"text/html\", \"status\": \"200\", \"digest\": \"2Z2D7HAWGQ6VJ2DGHJC2ZMMTGCLIG6JJ\", \"length\": \"32297\", \"offset\": \"821846602\", \"filename\": \"crawl-data/CC-MAIN-2019-47/segments/1573496670558.91/warc/CC-MAIN-20191120111249-20191120135249-00515.warc.gz\", \"languages\": \"eng\", \"encoding\": \"UTF-8\"}\n",
    "\n",
    "filename = \"crawl-data/CC-MAIN-2019-47/crawl-data/CC-MAIN-2019-47/segments/1573496672170.93/warc/CC-MAIN-20191122222322-20191123011322-00515.warc.gz\"\n",
    "# prefix = 'https://aws-publicdatasets.s3.amazonaws.com/'\n",
    "prefix = 'https://commoncrawl.s3.amazonaws.com/'\n",
    "offset = 0\n",
    "offset_end = 1\n",
    "# resp = requests.get(prefix + filename, headers={'Range': 'bytes={}-{}'.format(offset, offset_end)})\n",
    "resp = requests.get(prefix + filename)\n",
    "print(resp.status_code)\n",
    "print(prefix+filename)"
   ]
  },
  {
   "cell_type": "code",
   "execution_count": 14,
   "metadata": {},
   "outputs": [
    {
     "name": "stdout",
     "output_type": "stream",
     "text": [
      "  % Total    % Received % Xferd  Average Speed   Time    Time     Time  Current\n",
      "                                 Dload  Upload   Total   Spent    Left  Speed\n",
      "100   243    0   243    0     0    489      0 --:--:-- --:--:-- --:--:--   488\n"
     ]
    }
   ],
   "source": [
    "# https://tech.marksblogg.com/petabytes-of-website-data-spark-emr.html \n",
    "# This cammand although could get a file but actually gets AccessDenied \n",
    "!curl -O https://commoncrawl.s3.amazonaws.com/crawl-data/CC-MAIN-2017-04/warc.paths.gz\n"
   ]
  }
 ],
 "metadata": {
  "kernelspec": {
   "display_name": "Python (MEC Mini-Projects)",
   "language": "python",
   "name": "mec-miniprojects"
  },
  "language_info": {
   "codemirror_mode": {
    "name": "ipython",
    "version": 3
   },
   "file_extension": ".py",
   "mimetype": "text/x-python",
   "name": "python",
   "nbconvert_exporter": "python",
   "pygments_lexer": "ipython3",
   "version": "3.7.15"
  }
 },
 "nbformat": 4,
 "nbformat_minor": 4
}

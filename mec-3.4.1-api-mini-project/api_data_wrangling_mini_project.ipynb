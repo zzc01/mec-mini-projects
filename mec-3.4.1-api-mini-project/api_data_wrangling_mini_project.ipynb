{
 "cells": [
  {
   "cell_type": "markdown",
   "metadata": {
    "id": "skBK9pbQfv1G"
   },
   "source": [
    "This exercise will require you to pull some data from https://data.nasdaq.com/ (formerly Quandl API)."
   ]
  },
  {
   "cell_type": "markdown",
   "metadata": {
    "id": "tsTYge-8fv1I"
   },
   "source": [
    "As a first step, you will need to register a free account on the https://data.nasdaq.com/ website."
   ]
  },
  {
   "cell_type": "markdown",
   "metadata": {
    "id": "oxa3ys4mfv1I"
   },
   "source": [
    "After you register, you will be provided with a unique API key, that you should store:\n",
    "\n",
    "*Note*: Use a `.env` file and put your key in there and `python-dotenv` to access it in this notebook. \n",
    "\n",
    "The code below uses a key that was used when generating this project but has since been deleted. Never submit your keys to source control. There is a `.env-example` file in this repository to illusrtate what you need. Copy that to a file called `.env` and use your own api key in that `.env` file. Make sure you also have a `.gitignore` file with a line for `.env` added to it. \n",
    "\n",
    "The standard Python gitignore is [here](https://github.com/github/gitignore/blob/master/Python.gitignore) you can just copy that. "
   ]
  },
  {
   "cell_type": "code",
   "execution_count": 1,
   "metadata": {
    "id": "n3SB9qVZfv1J",
    "outputId": "0f3eddbf-7c16-4e61-80a5-711346565194"
   },
   "outputs": [
    {
     "name": "stdout",
     "output_type": "stream",
     "text": [
      "Cd_-kLgEt19gWFRhxxG1\n"
     ]
    }
   ],
   "source": [
    "# get api key from your .env file\n",
    "import os\n",
    "from dotenv import load_dotenv  # if missing this module, simply run `pip install python-dotenv`\n",
    "\n",
    "load_dotenv()\n",
    "API_KEY = os.getenv('NASDAQ_API_KEY')\n",
    "\n",
    "print(API_KEY)"
   ]
  },
  {
   "cell_type": "markdown",
   "metadata": {
    "id": "kDmJOqtyfv1K"
   },
   "source": [
    "Nasdaq Data has a large number of data sources, but, unfortunately, most of them require a Premium subscription. Still, there are also a good number of free datasets."
   ]
  },
  {
   "cell_type": "markdown",
   "metadata": {
    "id": "rFyDPhSdfv1L"
   },
   "source": [
    "For this mini project, we will focus on equities data from the Frankfurt Stock Exhange (FSE), which is available for free. We'll try and analyze the stock prices of a company called Carl Zeiss Meditec, which manufactures tools for eye examinations, as well as medical lasers for laser eye surgery: https://www.zeiss.com/meditec/int/home.html. The company is listed under the stock ticker AFX_X."
   ]
  },
  {
   "cell_type": "markdown",
   "metadata": {
    "id": "Ga8kOf8Ifv1L"
   },
   "source": [
    "You can find the detailed Nasdaq Data API instructions here: https://docs.data.nasdaq.com/docs/in-depth-usage"
   ]
  },
  {
   "cell_type": "markdown",
   "metadata": {
    "id": "Zcl3-xi1fv1L"
   },
   "source": [
    "While there is a dedicated Python package for connecting to the Nasdaq API, we would prefer that you use the *requests* package, which can be easily downloaded using *pip* or *conda*. You can find the documentation for the package here: http://docs.python-requests.org/en/master/ "
   ]
  },
  {
   "cell_type": "markdown",
   "metadata": {
    "id": "8RPj23jNfv1L"
   },
   "source": [
    "Finally, apart from the *requests* package, you are encouraged to not use any third party Python packages, such as *pandas*, and instead focus on what's available in the Python Standard Library (the *collections* module might come in handy: https://pymotw.com/3/collections/).\n",
    "Also, since you won't have access to DataFrames, you are encouraged to us Python's native data structures - preferably dictionaries, though some questions can also be answered using lists.\n",
    "You can read more on these data structures here: https://docs.python.org/3/tutorial/datastructures.html"
   ]
  },
  {
   "cell_type": "markdown",
   "metadata": {
    "id": "f_LdgW0Ofv1M"
   },
   "source": [
    "Keep in mind that the JSON responses you will be getting from the API map almost one-to-one to Python's dictionaries. Unfortunately, they can be very nested, so make sure you read up on indexing dictionaries in the documentation provided above."
   ]
  },
  {
   "cell_type": "code",
   "execution_count": 2,
   "metadata": {
    "id": "CHRz_2NMfv1M"
   },
   "outputs": [],
   "source": [
    "# First, import the relevant modules\n",
    "import requests"
   ]
  },
  {
   "cell_type": "markdown",
   "metadata": {
    "id": "oqkbRL66fv1M"
   },
   "source": [
    "Note: API's can change a bit with each version, for this exercise it is reccomended to use the nasdaq api at `https://data.nasdaq.com/api/v3/`. This is the same api as what used to be quandl so `https://www.quandl.com/api/v3/` should work too.\n",
    "\n",
    "Hint: We are looking for the `AFX_X` data on the `datasets/FSE/` dataset."
   ]
  },
  {
   "cell_type": "code",
   "execution_count": 3,
   "metadata": {
    "id": "iCiq8U3Ffv1M"
   },
   "outputs": [
    {
     "name": "stdout",
     "output_type": "stream",
     "text": [
      "<class 'requests.models.Response'>\n",
      "200\n"
     ]
    }
   ],
   "source": [
    "# Now, call the Nasdaq API and pull out a small sample of the data (only one day) to get a glimpse\n",
    "# into the JSON structure that will be returned\n",
    "#dataURL = 'https://data.nasdaq.com/api/v3/datatables/SHARADAR/SEP?date=2018-12-31&ticker=XOM&api_key=Cd_-kLgEt19gWFRhxxG1'\n",
    "#dataURL = 'https://data.nasdaq.com/api/v3/datatables/SHARADAR/SEP?date=2018-12-31%2C2018-12-28%2C2018-12-27&ticker=XOM%2CWMT&api_key=Cd_-kLgEt19gWFRhxxG1'\n",
    "#dataURL = 'https://data.nasdaq.com/api/v3/datatables/SHARADAR/SEP?date=2018-12-31&ticker=XOM%2CWMT&api_key=Cd_-kLgEt19gWFRhxxG1'\n",
    "#dataURL = 'https://data.nasdaq.com/api/v3/datasets/XETR/NOVA?start_date=2018-11-28&end_date=2018-11-30&api_key=Cd_-kLgEt19gWFRhxxG1'\n",
    "dataURL = 'https://data.nasdaq.com/api/v3/datasets/FSE/AFX_X?start_date=2017-01-01&end_date=2017-12-31&api_key=Cd_-kLgEt19gWFRhxxG1'\n",
    "# dataURL = 'https://data.nasdaq.com/api/v3/datasets/FSE/AFX_X?start_date=2017-01-01&end_date=2017-01-10&api_key=Cd_-kLgEt19gWFRhxxG1'\n",
    "quotesReq = requests.get(dataURL, allow_redirects = True)\n",
    "print(type(quotesReq))\n",
    "print(quotesReq.status_code)\n",
    "# print(quotesReq.content)"
   ]
  },
  {
   "cell_type": "code",
   "execution_count": 4,
   "metadata": {
    "id": "W3uceKtpfv1N",
    "outputId": "da8d838d-e9a8-4347-b0be-53be0a970088"
   },
   "outputs": [
    {
     "name": "stdout",
     "output_type": "stream",
     "text": [
      "<class 'dict'>\n",
      "============\n",
      "dict_keys(['dataset'])\n",
      "============\n",
      "============\n",
      "['Date', 'Open', 'High', 'Low', 'Close', 'Change', 'Traded Volume', 'Turnover', 'Last Price of the Day', 'Daily Traded Units', 'Daily Turnover']\n",
      "============\n",
      "<class 'list'>\n",
      "============\n",
      "[['2017-12-29', 51.76, 51.94, 51.45, 51.76, None, 34640.0, 1792304.0, None, None, None], ['2017-12-28', 51.65, 51.82, 51.43, 51.6, None, 40660.0, 2099024.0, None, None, None]]\n"
     ]
    }
   ],
   "source": [
    "# Inspect the JSON structure of the object you created, and take note of how nested it is,\n",
    "# as well as the overall structure\n",
    "import json \n",
    "d = json.loads(quotesReq.content.decode('utf-8'))\n",
    "print(type(d))\n",
    "print('============')\n",
    "print(d.keys())\n",
    "print('============')\n",
    "# print(d)\n",
    "print('============')\n",
    "print(d['dataset']['column_names'])\n",
    "print('============')\n",
    "print(type(d['dataset']['data'][0]))\n",
    "print('============')\n",
    "print(d['dataset']['data'][0:2][:])\n",
    "data = d['dataset']['data']\n"
   ]
  },
  {
   "cell_type": "markdown",
   "metadata": {
    "id": "YbCpIyYwfv1N"
   },
   "source": [
    "These are your tasks for this mini project:\n",
    "1. Collect data from the Franfurt Stock Exchange, for the ticker AFX_X, for the whole year 2017 (keep in mind that the date format is YYYY-MM-DD).\n",
    "2. Convert the returned JSON object into a Python dictionary.\n",
    "3. Calculate what the highest and lowest opening prices were for the stock in this period.\n",
    "4. What was the largest change in any one day (based on High and Low price)?\n",
    "5. What was the largest change between any two days (based on Closing Price)?\n",
    "6. What was the average daily trading volume during this year?\n",
    "7. (Optional) What was the median trading volume during this year. (Note: you may need to implement your own function for calculating the median.)"
   ]
  },
  {
   "cell_type": "code",
   "execution_count": 9,
   "metadata": {
    "id": "w4TXITswfv1N"
   },
   "outputs": [
    {
     "name": "stdout",
     "output_type": "stream",
     "text": [
      "Highest opening price = 53.11, Lowest opening price = 34.0\n",
      "Largest change in any one day (based on High and Low price) = 2.66\n",
      "Largest change between any two days (based on Closing Price) = 2.56\n",
      "Average daily trading volume during this year = 89124.34\n"
     ]
    }
   ],
   "source": [
    "openMax = -1.0\n",
    "openMin = 1000000.0\n",
    "changeMax = 0.0 \n",
    "changeMax2Days = 0.0\n",
    "sumVolume = 0.0\n",
    "dailyTradeVol = []\n",
    "for i, day in enumerate(data):\n",
    "#     print(i, day)\n",
    "\n",
    "    if day[1] != None: \n",
    "\n",
    "        # 3. Calculate what the highest and lowest opening prices were for the stock in this period.\n",
    "        if day[1] > openMax:\n",
    "            openMax = day[1]\n",
    "        if day[1] < openMin:\n",
    "            openMin = day[1]\n",
    "\n",
    "        # 4. What was the lin any one day (based on High and Low price)?        \n",
    "        if abs(day[2] - day[1]) > abs(changeMax):\n",
    "            changeMax = round(day[2] - day[1], 4)\n",
    "\n",
    "    # 5. What was the largest change between any two days (based on Closing Price)?\n",
    "    if i > 0:\n",
    "        if abs(data[i][4] - data[i-1][4]) > abs(changeMax2Days):\n",
    "            changeMax2Days = round(data[i][4] - data[i-1][4], 4)\n",
    "    # 6. What was the average daily trading volume during this year?\n",
    "    sumVolume += day[6] \n",
    "    # 7. (Optional) What was the median trading volume during this year. (Note: you may need to implement your own function for calculating the median.)\n",
    "    dailyTradeVol.append(day[6])\n",
    "        \n",
    "print(\"Highest opening price = {}, Lowest opening price = {}\".format(openMax, openMin))\n",
    "print(\"Largest change in any one day (based on High and Low price) = {}\".format(changeMax))\n",
    "print(\"Largest change between any two days (based on Closing Price) = {}\".format(changeMax2Days))\n",
    "print(\"Average daily trading volume during this year = {}\".format(round(sumVolume/(i+1),2)))\n",
    "#\n",
    "# print(dailyTradeVol)\n",
    "dailyTradeVol.sort()\n",
    "# print(dailyTradeVol)\n",
    "numOfData = len(dailyTradeVol) \n",
    "if numOfData % 2 :\n",
    "    mediaVol = dailyTradeVol[ numOfData//2 ]\n",
    "else: \n",
    "    mediaVol = (dailyTradeVol[ int(numOfData/2) ] + dailyTradeVol[ int(numOfData/2)-1 ] )/2\n",
    "\n",
    "    print(\"Median trading volume during this year = {}\".format(mediaVol))\n"
   ]
  },
  {
   "cell_type": "code",
   "execution_count": 22,
   "metadata": {
    "id": "6Jv-M4TQfv1N"
   },
   "outputs": [],
   "source": [
    "#pip install matplotlib"
   ]
  },
  {
   "cell_type": "code",
   "execution_count": 24,
   "metadata": {},
   "outputs": [
    {
     "data": {
      "text/plain": [
       "Text(0, 0.5, 'Volumes')"
      ]
     },
     "execution_count": 24,
     "metadata": {},
     "output_type": "execute_result"
    },
    {
     "data": {
      "image/png": "[encoded data removed]",
      "text/plain": [
       "<Figure size 432x288 with 1 Axes>"
      ]
     },
     "metadata": {
      "needs_background": "light"
     },
     "output_type": "display_data"
    },
    {
     "data": {
      "image/png": "[encoded data removed]",
      "text/plain": [
       "<Figure size 432x288 with 1 Axes>"
      ]
     },
     "metadata": {
      "needs_background": "light"
     },
     "output_type": "display_data"
    }
   ],
   "source": [
    "import matplotlib.pyplot as plt\n",
    "#['Date', 'Open', 'High', 'Low', 'Close', 'Change', 'Traded Volume', \n",
    "opens   = []\n",
    "highs   = []\n",
    "lows    = []\n",
    "closes  = []\n",
    "volumes = []\n",
    "for i, day in enumerate(data):\n",
    "    if day[1] != None: \n",
    "        opens.append(day[1])\n",
    "        highs.append(day[2])\n",
    "        lows.append(day[3])\n",
    "        closes.append(day[4])\n",
    "        volumes.append(day[6])\n",
    "\n",
    "plt.figure(1) \n",
    "plt.xlabel('Days from Dec to Jan')\n",
    "plt.ylabel('Prices')\n",
    "plt.plot(opens)\n",
    "plt.plot(closes)\n",
    "plt.plot(highs)\n",
    "plt.plot(lows)\n",
    "plt.figure(2) \n",
    "plt.plot(volumes)\n",
    "plt.xlabel('Days from Dec to Jan')\n",
    "plt.ylabel('Volumes')\n"
   ]
  }
 ],
 "metadata": {
  "colab": {
   "provenance": []
  },
  "interpreter": {
   "hash": "4885f37acae9217c235118400878352aafa7b76e66df698a1f601374f86939a7"
  },
  "kernelspec": {
   "display_name": "Python 3",
   "language": "python",
   "name": "python3"
  },
  "language_info": {
   "codemirror_mode": {
    "name": "ipython",
    "version": 3
   },
   "file_extension": ".py",
   "mimetype": "text/x-python",
   "name": "python",
   "nbconvert_exporter": "python",
   "pygments_lexer": "ipython3",
   "version": "3.7.15"
  }
 },
 "nbformat": 4,
 "nbformat_minor": 4
}
